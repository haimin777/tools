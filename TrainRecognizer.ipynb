{
  "nbformat": 4,
  "nbformat_minor": 0,
  "metadata": {
    "colab": {
      "name": "TrainRecognizer.ipynb",
      "provenance": [],
      "collapsed_sections": [],
      "authorship_tag": "ABX9TyMKPSy21sxwQqZ5u6bDUbcv",
      "include_colab_link": true
    },
    "kernelspec": {
      "name": "python3",
      "display_name": "Python 3"
    },
    "widgets": {
      "application/vnd.jupyter.widget-state+json": {
        "98cd3b916746448bb6ffce7608890b6f": {
          "model_module": "@jupyter-widgets/controls",
          "model_name": "HBoxModel",
          "state": {
            "_view_name": "HBoxView",
            "_dom_classes": [],
            "_model_name": "HBoxModel",
            "_view_module": "@jupyter-widgets/controls",
            "_model_module_version": "1.5.0",
            "_view_count": null,
            "_view_module_version": "1.5.0",
            "box_style": "",
            "layout": "IPY_MODEL_b3f7cb03877246aaa267585d3954d95c",
            "_model_module": "@jupyter-widgets/controls",
            "children": [
              "IPY_MODEL_079836e25490483dbbafb35bf49a240d",
              "IPY_MODEL_f1d455fad22b4c2d90313a2445beb24b"
            ]
          }
        },
        "b3f7cb03877246aaa267585d3954d95c": {
          "model_module": "@jupyter-widgets/base",
          "model_name": "LayoutModel",
          "state": {
            "_view_name": "LayoutView",
            "grid_template_rows": null,
            "right": null,
            "justify_content": null,
            "_view_module": "@jupyter-widgets/base",
            "overflow": null,
            "_model_module_version": "1.2.0",
            "_view_count": null,
            "flex_flow": null,
            "width": null,
            "min_width": null,
            "border": null,
            "align_items": null,
            "bottom": null,
            "_model_module": "@jupyter-widgets/base",
            "top": null,
            "grid_column": null,
            "overflow_y": null,
            "overflow_x": null,
            "grid_auto_flow": null,
            "grid_area": null,
            "grid_template_columns": null,
            "flex": null,
            "_model_name": "LayoutModel",
            "justify_items": null,
            "grid_row": null,
            "max_height": null,
            "align_content": null,
            "visibility": null,
            "align_self": null,
            "height": null,
            "min_height": null,
            "padding": null,
            "grid_auto_rows": null,
            "grid_gap": null,
            "max_width": null,
            "order": null,
            "_view_module_version": "1.2.0",
            "grid_template_areas": null,
            "object_position": null,
            "object_fit": null,
            "grid_auto_columns": null,
            "margin": null,
            "display": null,
            "left": null
          }
        },
        "079836e25490483dbbafb35bf49a240d": {
          "model_module": "@jupyter-widgets/controls",
          "model_name": "FloatProgressModel",
          "state": {
            "_view_name": "ProgressView",
            "style": "IPY_MODEL_4837bc09a437417589595ecf71cbb86b",
            "_dom_classes": [],
            "description": "100%",
            "_model_name": "FloatProgressModel",
            "bar_style": "success",
            "max": 5000,
            "_view_module": "@jupyter-widgets/controls",
            "_model_module_version": "1.5.0",
            "value": 5000,
            "_view_count": null,
            "_view_module_version": "1.5.0",
            "orientation": "horizontal",
            "min": 0,
            "description_tooltip": null,
            "_model_module": "@jupyter-widgets/controls",
            "layout": "IPY_MODEL_35c921c8855848f6ac6f217459aa76be"
          }
        },
        "f1d455fad22b4c2d90313a2445beb24b": {
          "model_module": "@jupyter-widgets/controls",
          "model_name": "HTMLModel",
          "state": {
            "_view_name": "HTMLView",
            "style": "IPY_MODEL_763b5fc1589d4ec3bf8c8a12b46ad3db",
            "_dom_classes": [],
            "description": "",
            "_model_name": "HTMLModel",
            "placeholder": "​",
            "_view_module": "@jupyter-widgets/controls",
            "_model_module_version": "1.5.0",
            "value": " 5000/5000 [00:13&lt;00:00, 368.38it/s]",
            "_view_count": null,
            "_view_module_version": "1.5.0",
            "description_tooltip": null,
            "_model_module": "@jupyter-widgets/controls",
            "layout": "IPY_MODEL_4b4e664ecfd44ee090fd1e2376d43675"
          }
        },
        "4837bc09a437417589595ecf71cbb86b": {
          "model_module": "@jupyter-widgets/controls",
          "model_name": "ProgressStyleModel",
          "state": {
            "_view_name": "StyleView",
            "_model_name": "ProgressStyleModel",
            "description_width": "initial",
            "_view_module": "@jupyter-widgets/base",
            "_model_module_version": "1.5.0",
            "_view_count": null,
            "_view_module_version": "1.2.0",
            "bar_color": null,
            "_model_module": "@jupyter-widgets/controls"
          }
        },
        "35c921c8855848f6ac6f217459aa76be": {
          "model_module": "@jupyter-widgets/base",
          "model_name": "LayoutModel",
          "state": {
            "_view_name": "LayoutView",
            "grid_template_rows": null,
            "right": null,
            "justify_content": null,
            "_view_module": "@jupyter-widgets/base",
            "overflow": null,
            "_model_module_version": "1.2.0",
            "_view_count": null,
            "flex_flow": null,
            "width": null,
            "min_width": null,
            "border": null,
            "align_items": null,
            "bottom": null,
            "_model_module": "@jupyter-widgets/base",
            "top": null,
            "grid_column": null,
            "overflow_y": null,
            "overflow_x": null,
            "grid_auto_flow": null,
            "grid_area": null,
            "grid_template_columns": null,
            "flex": null,
            "_model_name": "LayoutModel",
            "justify_items": null,
            "grid_row": null,
            "max_height": null,
            "align_content": null,
            "visibility": null,
            "align_self": null,
            "height": null,
            "min_height": null,
            "padding": null,
            "grid_auto_rows": null,
            "grid_gap": null,
            "max_width": null,
            "order": null,
            "_view_module_version": "1.2.0",
            "grid_template_areas": null,
            "object_position": null,
            "object_fit": null,
            "grid_auto_columns": null,
            "margin": null,
            "display": null,
            "left": null
          }
        },
        "763b5fc1589d4ec3bf8c8a12b46ad3db": {
          "model_module": "@jupyter-widgets/controls",
          "model_name": "DescriptionStyleModel",
          "state": {
            "_view_name": "StyleView",
            "_model_name": "DescriptionStyleModel",
            "description_width": "",
            "_view_module": "@jupyter-widgets/base",
            "_model_module_version": "1.5.0",
            "_view_count": null,
            "_view_module_version": "1.2.0",
            "_model_module": "@jupyter-widgets/controls"
          }
        },
        "4b4e664ecfd44ee090fd1e2376d43675": {
          "model_module": "@jupyter-widgets/base",
          "model_name": "LayoutModel",
          "state": {
            "_view_name": "LayoutView",
            "grid_template_rows": null,
            "right": null,
            "justify_content": null,
            "_view_module": "@jupyter-widgets/base",
            "overflow": null,
            "_model_module_version": "1.2.0",
            "_view_count": null,
            "flex_flow": null,
            "width": null,
            "min_width": null,
            "border": null,
            "align_items": null,
            "bottom": null,
            "_model_module": "@jupyter-widgets/base",
            "top": null,
            "grid_column": null,
            "overflow_y": null,
            "overflow_x": null,
            "grid_auto_flow": null,
            "grid_area": null,
            "grid_template_columns": null,
            "flex": null,
            "_model_name": "LayoutModel",
            "justify_items": null,
            "grid_row": null,
            "max_height": null,
            "align_content": null,
            "visibility": null,
            "align_self": null,
            "height": null,
            "min_height": null,
            "padding": null,
            "grid_auto_rows": null,
            "grid_gap": null,
            "max_width": null,
            "order": null,
            "_view_module_version": "1.2.0",
            "grid_template_areas": null,
            "object_position": null,
            "object_fit": null,
            "grid_auto_columns": null,
            "margin": null,
            "display": null,
            "left": null
          }
        },
        "16a77380809740ca989775bf19209b4a": {
          "model_module": "@jupyter-widgets/controls",
          "model_name": "HBoxModel",
          "state": {
            "_view_name": "HBoxView",
            "_dom_classes": [],
            "_model_name": "HBoxModel",
            "_view_module": "@jupyter-widgets/controls",
            "_model_module_version": "1.5.0",
            "_view_count": null,
            "_view_module_version": "1.5.0",
            "box_style": "",
            "layout": "IPY_MODEL_acf8eea770444b21ba9a4054defcf6ec",
            "_model_module": "@jupyter-widgets/controls",
            "children": [
              "IPY_MODEL_7bd25d4b178c46eeae4e357b140aa3fc",
              "IPY_MODEL_3a086f135e534ffc855e8070c437018b"
            ]
          }
        },
        "acf8eea770444b21ba9a4054defcf6ec": {
          "model_module": "@jupyter-widgets/base",
          "model_name": "LayoutModel",
          "state": {
            "_view_name": "LayoutView",
            "grid_template_rows": null,
            "right": null,
            "justify_content": null,
            "_view_module": "@jupyter-widgets/base",
            "overflow": null,
            "_model_module_version": "1.2.0",
            "_view_count": null,
            "flex_flow": null,
            "width": null,
            "min_width": null,
            "border": null,
            "align_items": null,
            "bottom": null,
            "_model_module": "@jupyter-widgets/base",
            "top": null,
            "grid_column": null,
            "overflow_y": null,
            "overflow_x": null,
            "grid_auto_flow": null,
            "grid_area": null,
            "grid_template_columns": null,
            "flex": null,
            "_model_name": "LayoutModel",
            "justify_items": null,
            "grid_row": null,
            "max_height": null,
            "align_content": null,
            "visibility": null,
            "align_self": null,
            "height": null,
            "min_height": null,
            "padding": null,
            "grid_auto_rows": null,
            "grid_gap": null,
            "max_width": null,
            "order": null,
            "_view_module_version": "1.2.0",
            "grid_template_areas": null,
            "object_position": null,
            "object_fit": null,
            "grid_auto_columns": null,
            "margin": null,
            "display": null,
            "left": null
          }
        },
        "7bd25d4b178c46eeae4e357b140aa3fc": {
          "model_module": "@jupyter-widgets/controls",
          "model_name": "FloatProgressModel",
          "state": {
            "_view_name": "ProgressView",
            "style": "IPY_MODEL_e9b420e346cb480d916f8794f00a8aa7",
            "_dom_classes": [],
            "description": "100%",
            "_model_name": "FloatProgressModel",
            "bar_style": "success",
            "max": 5000,
            "_view_module": "@jupyter-widgets/controls",
            "_model_module_version": "1.5.0",
            "value": 5000,
            "_view_count": null,
            "_view_module_version": "1.5.0",
            "orientation": "horizontal",
            "min": 0,
            "description_tooltip": null,
            "_model_module": "@jupyter-widgets/controls",
            "layout": "IPY_MODEL_ec5a854363d145a28fbc61b75cc93ece"
          }
        },
        "3a086f135e534ffc855e8070c437018b": {
          "model_module": "@jupyter-widgets/controls",
          "model_name": "HTMLModel",
          "state": {
            "_view_name": "HTMLView",
            "style": "IPY_MODEL_54aaa8d885e84a018e5122dc7c1076da",
            "_dom_classes": [],
            "description": "",
            "_model_name": "HTMLModel",
            "placeholder": "​",
            "_view_module": "@jupyter-widgets/controls",
            "_model_module_version": "1.5.0",
            "value": " 5000/5000 [00:16&lt;00:00, 295.99it/s]",
            "_view_count": null,
            "_view_module_version": "1.5.0",
            "description_tooltip": null,
            "_model_module": "@jupyter-widgets/controls",
            "layout": "IPY_MODEL_110cb21383f74afe93f6a05fe188fa78"
          }
        },
        "e9b420e346cb480d916f8794f00a8aa7": {
          "model_module": "@jupyter-widgets/controls",
          "model_name": "ProgressStyleModel",
          "state": {
            "_view_name": "StyleView",
            "_model_name": "ProgressStyleModel",
            "description_width": "initial",
            "_view_module": "@jupyter-widgets/base",
            "_model_module_version": "1.5.0",
            "_view_count": null,
            "_view_module_version": "1.2.0",
            "bar_color": null,
            "_model_module": "@jupyter-widgets/controls"
          }
        },
        "ec5a854363d145a28fbc61b75cc93ece": {
          "model_module": "@jupyter-widgets/base",
          "model_name": "LayoutModel",
          "state": {
            "_view_name": "LayoutView",
            "grid_template_rows": null,
            "right": null,
            "justify_content": null,
            "_view_module": "@jupyter-widgets/base",
            "overflow": null,
            "_model_module_version": "1.2.0",
            "_view_count": null,
            "flex_flow": null,
            "width": null,
            "min_width": null,
            "border": null,
            "align_items": null,
            "bottom": null,
            "_model_module": "@jupyter-widgets/base",
            "top": null,
            "grid_column": null,
            "overflow_y": null,
            "overflow_x": null,
            "grid_auto_flow": null,
            "grid_area": null,
            "grid_template_columns": null,
            "flex": null,
            "_model_name": "LayoutModel",
            "justify_items": null,
            "grid_row": null,
            "max_height": null,
            "align_content": null,
            "visibility": null,
            "align_self": null,
            "height": null,
            "min_height": null,
            "padding": null,
            "grid_auto_rows": null,
            "grid_gap": null,
            "max_width": null,
            "order": null,
            "_view_module_version": "1.2.0",
            "grid_template_areas": null,
            "object_position": null,
            "object_fit": null,
            "grid_auto_columns": null,
            "margin": null,
            "display": null,
            "left": null
          }
        },
        "54aaa8d885e84a018e5122dc7c1076da": {
          "model_module": "@jupyter-widgets/controls",
          "model_name": "DescriptionStyleModel",
          "state": {
            "_view_name": "StyleView",
            "_model_name": "DescriptionStyleModel",
            "description_width": "",
            "_view_module": "@jupyter-widgets/base",
            "_model_module_version": "1.5.0",
            "_view_count": null,
            "_view_module_version": "1.2.0",
            "_model_module": "@jupyter-widgets/controls"
          }
        },
        "110cb21383f74afe93f6a05fe188fa78": {
          "model_module": "@jupyter-widgets/base",
          "model_name": "LayoutModel",
          "state": {
            "_view_name": "LayoutView",
            "grid_template_rows": null,
            "right": null,
            "justify_content": null,
            "_view_module": "@jupyter-widgets/base",
            "overflow": null,
            "_model_module_version": "1.2.0",
            "_view_count": null,
            "flex_flow": null,
            "width": null,
            "min_width": null,
            "border": null,
            "align_items": null,
            "bottom": null,
            "_model_module": "@jupyter-widgets/base",
            "top": null,
            "grid_column": null,
            "overflow_y": null,
            "overflow_x": null,
            "grid_auto_flow": null,
            "grid_area": null,
            "grid_template_columns": null,
            "flex": null,
            "_model_name": "LayoutModel",
            "justify_items": null,
            "grid_row": null,
            "max_height": null,
            "align_content": null,
            "visibility": null,
            "align_self": null,
            "height": null,
            "min_height": null,
            "padding": null,
            "grid_auto_rows": null,
            "grid_gap": null,
            "max_width": null,
            "order": null,
            "_view_module_version": "1.2.0",
            "grid_template_areas": null,
            "object_position": null,
            "object_fit": null,
            "grid_auto_columns": null,
            "margin": null,
            "display": null,
            "left": null
          }
        },
        "626703a0c91e432686143bc9a4db4de1": {
          "model_module": "@jupyter-widgets/controls",
          "model_name": "HBoxModel",
          "state": {
            "_view_name": "HBoxView",
            "_dom_classes": [],
            "_model_name": "HBoxModel",
            "_view_module": "@jupyter-widgets/controls",
            "_model_module_version": "1.5.0",
            "_view_count": null,
            "_view_module_version": "1.5.0",
            "box_style": "",
            "layout": "IPY_MODEL_5269c4b99b1441f38a764e0a35202e5d",
            "_model_module": "@jupyter-widgets/controls",
            "children": [
              "IPY_MODEL_c687ab0fe34f45259c469c79be93d9ef",
              "IPY_MODEL_c6a7f617217845829bf649cd8f79891a"
            ]
          }
        },
        "5269c4b99b1441f38a764e0a35202e5d": {
          "model_module": "@jupyter-widgets/base",
          "model_name": "LayoutModel",
          "state": {
            "_view_name": "LayoutView",
            "grid_template_rows": null,
            "right": null,
            "justify_content": null,
            "_view_module": "@jupyter-widgets/base",
            "overflow": null,
            "_model_module_version": "1.2.0",
            "_view_count": null,
            "flex_flow": null,
            "width": null,
            "min_width": null,
            "border": null,
            "align_items": null,
            "bottom": null,
            "_model_module": "@jupyter-widgets/base",
            "top": null,
            "grid_column": null,
            "overflow_y": null,
            "overflow_x": null,
            "grid_auto_flow": null,
            "grid_area": null,
            "grid_template_columns": null,
            "flex": null,
            "_model_name": "LayoutModel",
            "justify_items": null,
            "grid_row": null,
            "max_height": null,
            "align_content": null,
            "visibility": null,
            "align_self": null,
            "height": null,
            "min_height": null,
            "padding": null,
            "grid_auto_rows": null,
            "grid_gap": null,
            "max_width": null,
            "order": null,
            "_view_module_version": "1.2.0",
            "grid_template_areas": null,
            "object_position": null,
            "object_fit": null,
            "grid_auto_columns": null,
            "margin": null,
            "display": null,
            "left": null
          }
        },
        "c687ab0fe34f45259c469c79be93d9ef": {
          "model_module": "@jupyter-widgets/controls",
          "model_name": "FloatProgressModel",
          "state": {
            "_view_name": "ProgressView",
            "style": "IPY_MODEL_3e71f997ac7f487f9443b332d174351e",
            "_dom_classes": [],
            "description": "100%",
            "_model_name": "FloatProgressModel",
            "bar_style": "success",
            "max": 5000,
            "_view_module": "@jupyter-widgets/controls",
            "_model_module_version": "1.5.0",
            "value": 5000,
            "_view_count": null,
            "_view_module_version": "1.5.0",
            "orientation": "horizontal",
            "min": 0,
            "description_tooltip": null,
            "_model_module": "@jupyter-widgets/controls",
            "layout": "IPY_MODEL_552b284d34ec4beab5e779ba6ca0c588"
          }
        },
        "c6a7f617217845829bf649cd8f79891a": {
          "model_module": "@jupyter-widgets/controls",
          "model_name": "HTMLModel",
          "state": {
            "_view_name": "HTMLView",
            "style": "IPY_MODEL_c3778a5eada24fe3803ba8103baddfb5",
            "_dom_classes": [],
            "description": "",
            "_model_name": "HTMLModel",
            "placeholder": "​",
            "_view_module": "@jupyter-widgets/controls",
            "_model_module_version": "1.5.0",
            "value": " 5000/5000 [00:15&lt;00:00, 321.91it/s]",
            "_view_count": null,
            "_view_module_version": "1.5.0",
            "description_tooltip": null,
            "_model_module": "@jupyter-widgets/controls",
            "layout": "IPY_MODEL_768ea2fcc9514c0191fed7b6c369f7e8"
          }
        },
        "3e71f997ac7f487f9443b332d174351e": {
          "model_module": "@jupyter-widgets/controls",
          "model_name": "ProgressStyleModel",
          "state": {
            "_view_name": "StyleView",
            "_model_name": "ProgressStyleModel",
            "description_width": "initial",
            "_view_module": "@jupyter-widgets/base",
            "_model_module_version": "1.5.0",
            "_view_count": null,
            "_view_module_version": "1.2.0",
            "bar_color": null,
            "_model_module": "@jupyter-widgets/controls"
          }
        },
        "552b284d34ec4beab5e779ba6ca0c588": {
          "model_module": "@jupyter-widgets/base",
          "model_name": "LayoutModel",
          "state": {
            "_view_name": "LayoutView",
            "grid_template_rows": null,
            "right": null,
            "justify_content": null,
            "_view_module": "@jupyter-widgets/base",
            "overflow": null,
            "_model_module_version": "1.2.0",
            "_view_count": null,
            "flex_flow": null,
            "width": null,
            "min_width": null,
            "border": null,
            "align_items": null,
            "bottom": null,
            "_model_module": "@jupyter-widgets/base",
            "top": null,
            "grid_column": null,
            "overflow_y": null,
            "overflow_x": null,
            "grid_auto_flow": null,
            "grid_area": null,
            "grid_template_columns": null,
            "flex": null,
            "_model_name": "LayoutModel",
            "justify_items": null,
            "grid_row": null,
            "max_height": null,
            "align_content": null,
            "visibility": null,
            "align_self": null,
            "height": null,
            "min_height": null,
            "padding": null,
            "grid_auto_rows": null,
            "grid_gap": null,
            "max_width": null,
            "order": null,
            "_view_module_version": "1.2.0",
            "grid_template_areas": null,
            "object_position": null,
            "object_fit": null,
            "grid_auto_columns": null,
            "margin": null,
            "display": null,
            "left": null
          }
        },
        "c3778a5eada24fe3803ba8103baddfb5": {
          "model_module": "@jupyter-widgets/controls",
          "model_name": "DescriptionStyleModel",
          "state": {
            "_view_name": "StyleView",
            "_model_name": "DescriptionStyleModel",
            "description_width": "",
            "_view_module": "@jupyter-widgets/base",
            "_model_module_version": "1.5.0",
            "_view_count": null,
            "_view_module_version": "1.2.0",
            "_model_module": "@jupyter-widgets/controls"
          }
        },
        "768ea2fcc9514c0191fed7b6c369f7e8": {
          "model_module": "@jupyter-widgets/base",
          "model_name": "LayoutModel",
          "state": {
            "_view_name": "LayoutView",
            "grid_template_rows": null,
            "right": null,
            "justify_content": null,
            "_view_module": "@jupyter-widgets/base",
            "overflow": null,
            "_model_module_version": "1.2.0",
            "_view_count": null,
            "flex_flow": null,
            "width": null,
            "min_width": null,
            "border": null,
            "align_items": null,
            "bottom": null,
            "_model_module": "@jupyter-widgets/base",
            "top": null,
            "grid_column": null,
            "overflow_y": null,
            "overflow_x": null,
            "grid_auto_flow": null,
            "grid_area": null,
            "grid_template_columns": null,
            "flex": null,
            "_model_name": "LayoutModel",
            "justify_items": null,
            "grid_row": null,
            "max_height": null,
            "align_content": null,
            "visibility": null,
            "align_self": null,
            "height": null,
            "min_height": null,
            "padding": null,
            "grid_auto_rows": null,
            "grid_gap": null,
            "max_width": null,
            "order": null,
            "_view_module_version": "1.2.0",
            "grid_template_areas": null,
            "object_position": null,
            "object_fit": null,
            "grid_auto_columns": null,
            "margin": null,
            "display": null,
            "left": null
          }
        },
        "919980038bf44627bf5facea770f14ad": {
          "model_module": "@jupyter-widgets/controls",
          "model_name": "HBoxModel",
          "state": {
            "_view_name": "HBoxView",
            "_dom_classes": [],
            "_model_name": "HBoxModel",
            "_view_module": "@jupyter-widgets/controls",
            "_model_module_version": "1.5.0",
            "_view_count": null,
            "_view_module_version": "1.5.0",
            "box_style": "",
            "layout": "IPY_MODEL_80130d401d644bbcb3362502272cb845",
            "_model_module": "@jupyter-widgets/controls",
            "children": [
              "IPY_MODEL_8f1f49f43da64bb39de90b4093dcf89f",
              "IPY_MODEL_5e853c819d59449ea63a42efa54b2359"
            ]
          }
        },
        "80130d401d644bbcb3362502272cb845": {
          "model_module": "@jupyter-widgets/base",
          "model_name": "LayoutModel",
          "state": {
            "_view_name": "LayoutView",
            "grid_template_rows": null,
            "right": null,
            "justify_content": null,
            "_view_module": "@jupyter-widgets/base",
            "overflow": null,
            "_model_module_version": "1.2.0",
            "_view_count": null,
            "flex_flow": null,
            "width": null,
            "min_width": null,
            "border": null,
            "align_items": null,
            "bottom": null,
            "_model_module": "@jupyter-widgets/base",
            "top": null,
            "grid_column": null,
            "overflow_y": null,
            "overflow_x": null,
            "grid_auto_flow": null,
            "grid_area": null,
            "grid_template_columns": null,
            "flex": null,
            "_model_name": "LayoutModel",
            "justify_items": null,
            "grid_row": null,
            "max_height": null,
            "align_content": null,
            "visibility": null,
            "align_self": null,
            "height": null,
            "min_height": null,
            "padding": null,
            "grid_auto_rows": null,
            "grid_gap": null,
            "max_width": null,
            "order": null,
            "_view_module_version": "1.2.0",
            "grid_template_areas": null,
            "object_position": null,
            "object_fit": null,
            "grid_auto_columns": null,
            "margin": null,
            "display": null,
            "left": null
          }
        },
        "8f1f49f43da64bb39de90b4093dcf89f": {
          "model_module": "@jupyter-widgets/controls",
          "model_name": "FloatProgressModel",
          "state": {
            "_view_name": "ProgressView",
            "style": "IPY_MODEL_b582b2898e754226b9075155ac610d6f",
            "_dom_classes": [],
            "description": "100%",
            "_model_name": "FloatProgressModel",
            "bar_style": "success",
            "max": 5000,
            "_view_module": "@jupyter-widgets/controls",
            "_model_module_version": "1.5.0",
            "value": 5000,
            "_view_count": null,
            "_view_module_version": "1.5.0",
            "orientation": "horizontal",
            "min": 0,
            "description_tooltip": null,
            "_model_module": "@jupyter-widgets/controls",
            "layout": "IPY_MODEL_762453dc79634b30ab0fc5895ea2e65d"
          }
        },
        "5e853c819d59449ea63a42efa54b2359": {
          "model_module": "@jupyter-widgets/controls",
          "model_name": "HTMLModel",
          "state": {
            "_view_name": "HTMLView",
            "style": "IPY_MODEL_ecbf62cf41884bccae86c1b12805eed0",
            "_dom_classes": [],
            "description": "",
            "_model_name": "HTMLModel",
            "placeholder": "​",
            "_view_module": "@jupyter-widgets/controls",
            "_model_module_version": "1.5.0",
            "value": " 5000/5000 [00:17&lt;00:00, 287.30it/s]",
            "_view_count": null,
            "_view_module_version": "1.5.0",
            "description_tooltip": null,
            "_model_module": "@jupyter-widgets/controls",
            "layout": "IPY_MODEL_158727c3018140ce8e6ddde1b90df318"
          }
        },
        "b582b2898e754226b9075155ac610d6f": {
          "model_module": "@jupyter-widgets/controls",
          "model_name": "ProgressStyleModel",
          "state": {
            "_view_name": "StyleView",
            "_model_name": "ProgressStyleModel",
            "description_width": "initial",
            "_view_module": "@jupyter-widgets/base",
            "_model_module_version": "1.5.0",
            "_view_count": null,
            "_view_module_version": "1.2.0",
            "bar_color": null,
            "_model_module": "@jupyter-widgets/controls"
          }
        },
        "762453dc79634b30ab0fc5895ea2e65d": {
          "model_module": "@jupyter-widgets/base",
          "model_name": "LayoutModel",
          "state": {
            "_view_name": "LayoutView",
            "grid_template_rows": null,
            "right": null,
            "justify_content": null,
            "_view_module": "@jupyter-widgets/base",
            "overflow": null,
            "_model_module_version": "1.2.0",
            "_view_count": null,
            "flex_flow": null,
            "width": null,
            "min_width": null,
            "border": null,
            "align_items": null,
            "bottom": null,
            "_model_module": "@jupyter-widgets/base",
            "top": null,
            "grid_column": null,
            "overflow_y": null,
            "overflow_x": null,
            "grid_auto_flow": null,
            "grid_area": null,
            "grid_template_columns": null,
            "flex": null,
            "_model_name": "LayoutModel",
            "justify_items": null,
            "grid_row": null,
            "max_height": null,
            "align_content": null,
            "visibility": null,
            "align_self": null,
            "height": null,
            "min_height": null,
            "padding": null,
            "grid_auto_rows": null,
            "grid_gap": null,
            "max_width": null,
            "order": null,
            "_view_module_version": "1.2.0",
            "grid_template_areas": null,
            "object_position": null,
            "object_fit": null,
            "grid_auto_columns": null,
            "margin": null,
            "display": null,
            "left": null
          }
        },
        "ecbf62cf41884bccae86c1b12805eed0": {
          "model_module": "@jupyter-widgets/controls",
          "model_name": "DescriptionStyleModel",
          "state": {
            "_view_name": "StyleView",
            "_model_name": "DescriptionStyleModel",
            "description_width": "",
            "_view_module": "@jupyter-widgets/base",
            "_model_module_version": "1.5.0",
            "_view_count": null,
            "_view_module_version": "1.2.0",
            "_model_module": "@jupyter-widgets/controls"
          }
        },
        "158727c3018140ce8e6ddde1b90df318": {
          "model_module": "@jupyter-widgets/base",
          "model_name": "LayoutModel",
          "state": {
            "_view_name": "LayoutView",
            "grid_template_rows": null,
            "right": null,
            "justify_content": null,
            "_view_module": "@jupyter-widgets/base",
            "overflow": null,
            "_model_module_version": "1.2.0",
            "_view_count": null,
            "flex_flow": null,
            "width": null,
            "min_width": null,
            "border": null,
            "align_items": null,
            "bottom": null,
            "_model_module": "@jupyter-widgets/base",
            "top": null,
            "grid_column": null,
            "overflow_y": null,
            "overflow_x": null,
            "grid_auto_flow": null,
            "grid_area": null,
            "grid_template_columns": null,
            "flex": null,
            "_model_name": "LayoutModel",
            "justify_items": null,
            "grid_row": null,
            "max_height": null,
            "align_content": null,
            "visibility": null,
            "align_self": null,
            "height": null,
            "min_height": null,
            "padding": null,
            "grid_auto_rows": null,
            "grid_gap": null,
            "max_width": null,
            "order": null,
            "_view_module_version": "1.2.0",
            "grid_template_areas": null,
            "object_position": null,
            "object_fit": null,
            "grid_auto_columns": null,
            "margin": null,
            "display": null,
            "left": null
          }
        },
        "d4c1b377bed14925bc52a678e5d46d30": {
          "model_module": "@jupyter-widgets/controls",
          "model_name": "HBoxModel",
          "state": {
            "_view_name": "HBoxView",
            "_dom_classes": [],
            "_model_name": "HBoxModel",
            "_view_module": "@jupyter-widgets/controls",
            "_model_module_version": "1.5.0",
            "_view_count": null,
            "_view_module_version": "1.5.0",
            "box_style": "",
            "layout": "IPY_MODEL_a78ee56817e24288b604a801bec7b8c5",
            "_model_module": "@jupyter-widgets/controls",
            "children": [
              "IPY_MODEL_e794ba7161324d5b8f8add1eeaa65391",
              "IPY_MODEL_5cc93e4615394598af31109e1dfdcd80"
            ]
          }
        },
        "a78ee56817e24288b604a801bec7b8c5": {
          "model_module": "@jupyter-widgets/base",
          "model_name": "LayoutModel",
          "state": {
            "_view_name": "LayoutView",
            "grid_template_rows": null,
            "right": null,
            "justify_content": null,
            "_view_module": "@jupyter-widgets/base",
            "overflow": null,
            "_model_module_version": "1.2.0",
            "_view_count": null,
            "flex_flow": null,
            "width": null,
            "min_width": null,
            "border": null,
            "align_items": null,
            "bottom": null,
            "_model_module": "@jupyter-widgets/base",
            "top": null,
            "grid_column": null,
            "overflow_y": null,
            "overflow_x": null,
            "grid_auto_flow": null,
            "grid_area": null,
            "grid_template_columns": null,
            "flex": null,
            "_model_name": "LayoutModel",
            "justify_items": null,
            "grid_row": null,
            "max_height": null,
            "align_content": null,
            "visibility": null,
            "align_self": null,
            "height": null,
            "min_height": null,
            "padding": null,
            "grid_auto_rows": null,
            "grid_gap": null,
            "max_width": null,
            "order": null,
            "_view_module_version": "1.2.0",
            "grid_template_areas": null,
            "object_position": null,
            "object_fit": null,
            "grid_auto_columns": null,
            "margin": null,
            "display": null,
            "left": null
          }
        },
        "e794ba7161324d5b8f8add1eeaa65391": {
          "model_module": "@jupyter-widgets/controls",
          "model_name": "FloatProgressModel",
          "state": {
            "_view_name": "ProgressView",
            "style": "IPY_MODEL_2ec4808de5e343039ca8dc7d51e1e802",
            "_dom_classes": [],
            "description": "100%",
            "_model_name": "FloatProgressModel",
            "bar_style": "success",
            "max": 527086,
            "_view_module": "@jupyter-widgets/controls",
            "_model_module_version": "1.5.0",
            "value": 527086,
            "_view_count": null,
            "_view_module_version": "1.5.0",
            "orientation": "horizontal",
            "min": 0,
            "description_tooltip": null,
            "_model_module": "@jupyter-widgets/controls",
            "layout": "IPY_MODEL_3f600240386442bfb5402aa78da070ae"
          }
        },
        "5cc93e4615394598af31109e1dfdcd80": {
          "model_module": "@jupyter-widgets/controls",
          "model_name": "HTMLModel",
          "state": {
            "_view_name": "HTMLView",
            "style": "IPY_MODEL_aa02c6ee83ee49a6a1183ead3f4c457a",
            "_dom_classes": [],
            "description": "",
            "_model_name": "HTMLModel",
            "placeholder": "​",
            "_view_module": "@jupyter-widgets/controls",
            "_model_module_version": "1.5.0",
            "value": " 527086/527086 [00:11&lt;00:00, 44017.37it/s]",
            "_view_count": null,
            "_view_module_version": "1.5.0",
            "description_tooltip": null,
            "_model_module": "@jupyter-widgets/controls",
            "layout": "IPY_MODEL_5d601cf1b8d046e1bfa0497439c04c6e"
          }
        },
        "2ec4808de5e343039ca8dc7d51e1e802": {
          "model_module": "@jupyter-widgets/controls",
          "model_name": "ProgressStyleModel",
          "state": {
            "_view_name": "StyleView",
            "_model_name": "ProgressStyleModel",
            "description_width": "initial",
            "_view_module": "@jupyter-widgets/base",
            "_model_module_version": "1.5.0",
            "_view_count": null,
            "_view_module_version": "1.2.0",
            "bar_color": null,
            "_model_module": "@jupyter-widgets/controls"
          }
        },
        "3f600240386442bfb5402aa78da070ae": {
          "model_module": "@jupyter-widgets/base",
          "model_name": "LayoutModel",
          "state": {
            "_view_name": "LayoutView",
            "grid_template_rows": null,
            "right": null,
            "justify_content": null,
            "_view_module": "@jupyter-widgets/base",
            "overflow": null,
            "_model_module_version": "1.2.0",
            "_view_count": null,
            "flex_flow": null,
            "width": null,
            "min_width": null,
            "border": null,
            "align_items": null,
            "bottom": null,
            "_model_module": "@jupyter-widgets/base",
            "top": null,
            "grid_column": null,
            "overflow_y": null,
            "overflow_x": null,
            "grid_auto_flow": null,
            "grid_area": null,
            "grid_template_columns": null,
            "flex": null,
            "_model_name": "LayoutModel",
            "justify_items": null,
            "grid_row": null,
            "max_height": null,
            "align_content": null,
            "visibility": null,
            "align_self": null,
            "height": null,
            "min_height": null,
            "padding": null,
            "grid_auto_rows": null,
            "grid_gap": null,
            "max_width": null,
            "order": null,
            "_view_module_version": "1.2.0",
            "grid_template_areas": null,
            "object_position": null,
            "object_fit": null,
            "grid_auto_columns": null,
            "margin": null,
            "display": null,
            "left": null
          }
        },
        "aa02c6ee83ee49a6a1183ead3f4c457a": {
          "model_module": "@jupyter-widgets/controls",
          "model_name": "DescriptionStyleModel",
          "state": {
            "_view_name": "StyleView",
            "_model_name": "DescriptionStyleModel",
            "description_width": "",
            "_view_module": "@jupyter-widgets/base",
            "_model_module_version": "1.5.0",
            "_view_count": null,
            "_view_module_version": "1.2.0",
            "_model_module": "@jupyter-widgets/controls"
          }
        },
        "5d601cf1b8d046e1bfa0497439c04c6e": {
          "model_module": "@jupyter-widgets/base",
          "model_name": "LayoutModel",
          "state": {
            "_view_name": "LayoutView",
            "grid_template_rows": null,
            "right": null,
            "justify_content": null,
            "_view_module": "@jupyter-widgets/base",
            "overflow": null,
            "_model_module_version": "1.2.0",
            "_view_count": null,
            "flex_flow": null,
            "width": null,
            "min_width": null,
            "border": null,
            "align_items": null,
            "bottom": null,
            "_model_module": "@jupyter-widgets/base",
            "top": null,
            "grid_column": null,
            "overflow_y": null,
            "overflow_x": null,
            "grid_auto_flow": null,
            "grid_area": null,
            "grid_template_columns": null,
            "flex": null,
            "_model_name": "LayoutModel",
            "justify_items": null,
            "grid_row": null,
            "max_height": null,
            "align_content": null,
            "visibility": null,
            "align_self": null,
            "height": null,
            "min_height": null,
            "padding": null,
            "grid_auto_rows": null,
            "grid_gap": null,
            "max_width": null,
            "order": null,
            "_view_module_version": "1.2.0",
            "grid_template_areas": null,
            "object_position": null,
            "object_fit": null,
            "grid_auto_columns": null,
            "margin": null,
            "display": null,
            "left": null
          }
        }
      }
    },
    "accelerator": "GPU"
  },
  "cells": [
    {
      "cell_type": "markdown",
      "metadata": {
        "id": "view-in-github",
        "colab_type": "text"
      },
      "source": [
        "<a href=\"https://colab.research.google.com/github/haimin777/tools/blob/master/TrainRecognizer.ipynb\" target=\"_parent\"><img src=\"https://colab.research.google.com/assets/colab-badge.svg\" alt=\"Open In Colab\"/></a>"
      ]
    },
    {
      "cell_type": "code",
      "metadata": {
        "colab": {
          "base_uri": "https://localhost:8080/"
        },
        "id": "1fA0fUhWCBvC",
        "outputId": "5a004042-588c-4472-fab0-0c4284f3c6b1"
      },
      "source": [
        "from google.colab import drive\n",
        "drive.mount('/content/drive')"
      ],
      "execution_count": null,
      "outputs": [
        {
          "output_type": "stream",
          "text": [
            "Mounted at /content/drive\n"
          ],
          "name": "stdout"
        }
      ]
    },
    {
      "cell_type": "code",
      "metadata": {
        "id": "zwP_tNEUvDzS"
      },
      "source": [
        "!pip install tensorflow==2.3.0\n",
        "!pip install -U git+https://github.com/haimin777/keras-ocr.git\n",
        "!pip install -U opencv-python # We need the most recent version of OpenCV.\n",
        "\n",
        "!pip install tensorflow-addons==0.11.2\n",
        "\n",
        "%tensorflow_version 2.x\n",
        "\n",
        "from IPython.display import clear_output\n",
        "clear_output()"
      ],
      "execution_count": null,
      "outputs": []
    },
    {
      "cell_type": "code",
      "metadata": {
        "id": "VF2kE2tQYysu",
        "colab": {
          "base_uri": "https://localhost:8080/"
        },
        "outputId": "00c24407-1cb2-4ce0-fc8c-5965340c5fca"
      },
      "source": [
        "import zipfile\n",
        "import datetime\n",
        "import string\n",
        "import glob\n",
        "import math\n",
        "import os\n",
        "import shutil as sh\n",
        "\n",
        "import typing\n",
        "import tqdm\n",
        "import matplotlib.pyplot as plt\n",
        "from tqdm import tqdm_notebook\n",
        "import tensorflow as tf\n",
        "import sklearn.model_selection\n",
        "\n",
        "from tensorflow import keras\n",
        "import keras_ocr\n",
        "import numpy as np\n",
        "import pandas as pd\n",
        "import imgaug\n",
        "\n",
        "from xml.etree import ElementTree\n",
        "from xml.etree.ElementTree import XMLParser\n",
        "from numpy import array\n",
        "\n",
        "import cv2\n",
        "\n",
        "os.chdir('/content/drive/My Drive/AIgym/keras-ocr')\n",
        "#!git clone https://github.com/debidatta/syndata-generation.git\n",
        "#%tensorflow_version 1.x\n",
        "!ls | grep zip"
      ],
      "execution_count": null,
      "outputs": [
        {
          "output_type": "stream",
          "text": [
            "backgrounds.zip\n",
            "croppedSuits.zip\n",
            "datasetVin_fonts_27_1k_small_big.zip\n",
            "datasetVin_fonts_27_262_small_big.zip\n",
            "datasetVin_fonts_27_262_small.zip\n",
            "datasetVin_fonts_27_5k_small_big_1.zip\n",
            "datasetVin_fonts_27_5k_small_big_2.zip\n",
            "datasetVin_fonts_300_262_small_1.zip\n",
            "datasetVin_fonts_300_262_small_big.zip\n",
            "datasetVin_fonts_300_5k_small_1.zip\n",
            "datasetVin_fonts_300_5k_small_2.zip\n",
            "fonts.zip\n",
            "GG_groundTrue_Train.zip\n",
            "GGPokerOk_GT_3_cat.zip\n",
            "GG_TrainDataset_cards_2+1_1.zip\n",
            "GG_TrainDataset_cards_2+1_2.zip\n",
            "GroundTRue_3categories.zip\n",
            "grpc_ocr_docker.zip\n",
            "round_rectangles.zip\n"
          ],
          "name": "stdout"
        }
      ]
    },
    {
      "cell_type": "code",
      "metadata": {
        "id": "A9RvVbMVFu0D"
      },
      "source": [
        "!unzip -q -o datasetVin_fonts_300_5k_small_1.zip\n",
        "!unzip -q -o datasetVin_fonts_300_5k_small_2.zip\n",
        "!unzip -q -o datasetVin_fonts_27_5k_small_big_1.zip\n",
        "!unzip -q -o datasetVin_fonts_27_5k_small_big_2.zip"
      ],
      "execution_count": null,
      "outputs": []
    },
    {
      "cell_type": "code",
      "metadata": {
        "id": "oCagXbajlOEz"
      },
      "source": [
        "# Download data\n",
        "if not os.path.exists('GG_TrainDataset_cards_2+1_1'):\n",
        "     print('https://drive.google.com/file/d/1Om_I0ozRmoMJRLGilnZqbXNNR6uLH3h4/view?usp=sharing', 'download and unzip')\n"
      ],
      "execution_count": null,
      "outputs": []
    },
    {
      "cell_type": "code",
      "metadata": {
        "colab": {
          "base_uri": "https://localhost:8080/"
        },
        "id": "7jFxZdn_QEE2",
        "outputId": "811649bc-c74b-4205-80ee-476d79d62816"
      },
      "source": [
        "jpg_paths = glob.glob('GG_TrainDataset_cards_2+1_1/*webp')\n",
        "xml_paths = glob.glob('GG_TrainDataset_cards_2+1_1/*xml')\n",
        "\n",
        "jpg_paths.sort()\n",
        "xml_paths.sort()\n",
        "dataset = keras_ocr.datasets.get_lableme_detector_dataset(jpg_paths, xml_paths)\n",
        "\n",
        "len(dataset)"
      ],
      "execution_count": null,
      "outputs": [
        {
          "output_type": "execute_result",
          "data": {
            "text/plain": [
              "262"
            ]
          },
          "metadata": {
            "tags": []
          },
          "execution_count": 6
        }
      ]
    },
    {
      "cell_type": "code",
      "metadata": {
        "id": "CGzpuTJrrVD-"
      },
      "source": [
        "def get_dataset(dirs_list):\n",
        "\n",
        "    # create dataset from generated img + txt data\n",
        "    \n",
        "\n",
        "    dataset = []\n",
        "    for directory in dirs_list:\n",
        "        dataset += keras_ocr.datasets.get_DigitDataset_detector_dataset(directory, skip_illegible=True)\n",
        "\n",
        "        print(len(dataset))           \n",
        "    return dataset"
      ],
      "execution_count": null,
      "outputs": []
    },
    {
      "cell_type": "code",
      "metadata": {
        "colab": {
          "base_uri": "https://localhost:8080/",
          "height": 301,
          "referenced_widgets": [
            "98cd3b916746448bb6ffce7608890b6f",
            "b3f7cb03877246aaa267585d3954d95c",
            "079836e25490483dbbafb35bf49a240d",
            "f1d455fad22b4c2d90313a2445beb24b",
            "4837bc09a437417589595ecf71cbb86b",
            "35c921c8855848f6ac6f217459aa76be",
            "763b5fc1589d4ec3bf8c8a12b46ad3db",
            "4b4e664ecfd44ee090fd1e2376d43675",
            "16a77380809740ca989775bf19209b4a",
            "acf8eea770444b21ba9a4054defcf6ec",
            "7bd25d4b178c46eeae4e357b140aa3fc",
            "3a086f135e534ffc855e8070c437018b",
            "e9b420e346cb480d916f8794f00a8aa7",
            "ec5a854363d145a28fbc61b75cc93ece",
            "54aaa8d885e84a018e5122dc7c1076da",
            "110cb21383f74afe93f6a05fe188fa78",
            "626703a0c91e432686143bc9a4db4de1",
            "5269c4b99b1441f38a764e0a35202e5d",
            "c687ab0fe34f45259c469c79be93d9ef",
            "c6a7f617217845829bf649cd8f79891a",
            "3e71f997ac7f487f9443b332d174351e",
            "552b284d34ec4beab5e779ba6ca0c588",
            "c3778a5eada24fe3803ba8103baddfb5",
            "768ea2fcc9514c0191fed7b6c369f7e8",
            "919980038bf44627bf5facea770f14ad",
            "80130d401d644bbcb3362502272cb845",
            "8f1f49f43da64bb39de90b4093dcf89f",
            "5e853c819d59449ea63a42efa54b2359",
            "b582b2898e754226b9075155ac610d6f",
            "762453dc79634b30ab0fc5895ea2e65d",
            "ecbf62cf41884bccae86c1b12805eed0",
            "158727c3018140ce8e6ddde1b90df318"
          ]
        },
        "id": "xYnaiiBEjErI",
        "outputId": "867df23b-7e08-4fb7-9fd3-3cd0bef192ea"
      },
      "source": [
        "\n",
        "dirs_list = ['datasetVin_fonts_300_5k_small_1',\n",
        "             'datasetVin_fonts_300_5k_small_2',\n",
        "             'datasetVin_fonts_27_5k_small_big_1',\n",
        "             'datasetVin_fonts_27_5k_small_big_1',\n",
        "             \n",
        "             ]\n",
        "\n",
        "dataset += get_dataset(dirs_list)\n",
        "\n",
        "len(dataset)"
      ],
      "execution_count": null,
      "outputs": [
        {
          "output_type": "display_data",
          "data": {
            "application/vnd.jupyter.widget-view+json": {
              "model_id": "98cd3b916746448bb6ffce7608890b6f",
              "version_minor": 0,
              "version_major": 2
            },
            "text/plain": [
              "HBox(children=(FloatProgress(value=0.0, max=5000.0), HTML(value='')))"
            ]
          },
          "metadata": {
            "tags": []
          }
        },
        {
          "output_type": "stream",
          "text": [
            "\n",
            "5000\n"
          ],
          "name": "stdout"
        },
        {
          "output_type": "display_data",
          "data": {
            "application/vnd.jupyter.widget-view+json": {
              "model_id": "16a77380809740ca989775bf19209b4a",
              "version_minor": 0,
              "version_major": 2
            },
            "text/plain": [
              "HBox(children=(FloatProgress(value=0.0, max=5000.0), HTML(value='')))"
            ]
          },
          "metadata": {
            "tags": []
          }
        },
        {
          "output_type": "stream",
          "text": [
            "\n",
            "10000\n"
          ],
          "name": "stdout"
        },
        {
          "output_type": "display_data",
          "data": {
            "application/vnd.jupyter.widget-view+json": {
              "model_id": "626703a0c91e432686143bc9a4db4de1",
              "version_minor": 0,
              "version_major": 2
            },
            "text/plain": [
              "HBox(children=(FloatProgress(value=0.0, max=5000.0), HTML(value='')))"
            ]
          },
          "metadata": {
            "tags": []
          }
        },
        {
          "output_type": "stream",
          "text": [
            "\n",
            "15000\n"
          ],
          "name": "stdout"
        },
        {
          "output_type": "display_data",
          "data": {
            "application/vnd.jupyter.widget-view+json": {
              "model_id": "919980038bf44627bf5facea770f14ad",
              "version_minor": 0,
              "version_major": 2
            },
            "text/plain": [
              "HBox(children=(FloatProgress(value=0.0, max=5000.0), HTML(value='')))"
            ]
          },
          "metadata": {
            "tags": []
          }
        },
        {
          "output_type": "stream",
          "text": [
            "\n",
            "20000\n"
          ],
          "name": "stdout"
        },
        {
          "output_type": "execute_result",
          "data": {
            "text/plain": [
              "20262"
            ]
          },
          "metadata": {
            "tags": []
          },
          "execution_count": 8
        }
      ]
    },
    {
      "cell_type": "code",
      "metadata": {
        "colab": {
          "base_uri": "https://localhost:8080/"
        },
        "id": "hqiTgIAqRAac",
        "outputId": "4578d706-2085-4ec0-8221-0d58b9e6b504"
      },
      "source": [
        "dataset = keras_ocr.datasets.get_DigitsData_recognizer_dataset(dataset)\n",
        "len(dataset)"
      ],
      "execution_count": null,
      "outputs": [
        {
          "output_type": "execute_result",
          "data": {
            "text/plain": [
              "1102822"
            ]
          },
          "metadata": {
            "tags": []
          },
          "execution_count": 9
        }
      ]
    },
    {
      "cell_type": "code",
      "metadata": {
        "id": "GZOOYtfu1l75"
      },
      "source": [
        ""
      ],
      "execution_count": null,
      "outputs": []
    },
    {
      "cell_type": "code",
      "metadata": {
        "colab": {
          "base_uri": "https://localhost:8080/",
          "height": 987,
          "referenced_widgets": [
            "d4c1b377bed14925bc52a678e5d46d30",
            "a78ee56817e24288b604a801bec7b8c5",
            "e794ba7161324d5b8f8add1eeaa65391",
            "5cc93e4615394598af31109e1dfdcd80",
            "2ec4808de5e343039ca8dc7d51e1e802",
            "3f600240386442bfb5402aa78da070ae",
            "aa02c6ee83ee49a6a1183ead3f4c457a",
            "5d601cf1b8d046e1bfa0497439c04c6e"
          ]
        },
        "id": "qdVH5DxEW7zg",
        "outputId": "748182bd-5418-4dfe-b1c7-7aca39e9042c"
      },
      "source": [
        "# calculate dataset statistics\n",
        "res_dict = {}\n",
        "for item in tqdm_notebook(dataset):\n",
        "    for char in item[2]:\n",
        "        if char not in res_dict.keys():\n",
        "            res_dict[char] = 1\n",
        "        else:    \n",
        "            res_dict[char] += 1\n",
        " \n",
        "res_dict"
      ],
      "execution_count": null,
      "outputs": [
        {
          "output_type": "stream",
          "text": [
            "/usr/local/lib/python3.6/dist-packages/ipykernel_launcher.py:3: TqdmDeprecationWarning: This function will be removed in tqdm==5.0.0\n",
            "Please use `tqdm.notebook.tqdm` instead of `tqdm.tqdm_notebook`\n",
            "  This is separate from the ipykernel package so we can avoid doing imports until\n"
          ],
          "name": "stderr"
        },
        {
          "output_type": "display_data",
          "data": {
            "application/vnd.jupyter.widget-view+json": {
              "model_id": "d4c1b377bed14925bc52a678e5d46d30",
              "version_minor": 0,
              "version_major": 2
            },
            "text/plain": [
              "HBox(children=(FloatProgress(value=0.0, max=527086.0), HTML(value='')))"
            ]
          },
          "metadata": {
            "tags": []
          }
        },
        {
          "output_type": "stream",
          "text": [
            "\n"
          ],
          "name": "stdout"
        },
        {
          "output_type": "execute_result",
          "data": {
            "text/plain": [
              "{'$': 66355,\n",
              " '%': 27,\n",
              " '(': 279,\n",
              " ')': 279,\n",
              " '+': 2,\n",
              " ',': 519,\n",
              " '-': 2,\n",
              " '.': 65727,\n",
              " '0': 27999,\n",
              " '1': 65501,\n",
              " '2': 35653,\n",
              " '3': 33963,\n",
              " '4': 33718,\n",
              " '5': 34187,\n",
              " '6': 33263,\n",
              " '7': 33535,\n",
              " '8': 33108,\n",
              " '9': 33460,\n",
              " ':': 27,\n",
              " '`': 262,\n",
              " 'a': 53508,\n",
              " 'b': 44872,\n",
              " 'c': 44254,\n",
              " 'd': 46398,\n",
              " 'e': 46315,\n",
              " 'f': 44689,\n",
              " 'g': 44783,\n",
              " 'h': 45148,\n",
              " 'i': 46041,\n",
              " 'j': 52434,\n",
              " 'k': 52414,\n",
              " 'l': 46049,\n",
              " 'm': 45465,\n",
              " 'n': 45568,\n",
              " 'o': 46889,\n",
              " 'p': 45540,\n",
              " 'q': 52105,\n",
              " 'r': 45891,\n",
              " 's': 45351,\n",
              " 't': 46611,\n",
              " 'u': 44837,\n",
              " 'v': 44703,\n",
              " 'w': 44382,\n",
              " 'x': 44258,\n",
              " 'y': 45137,\n",
              " 'z': 45119,\n",
              " '♠': 49144,\n",
              " '♣': 49172,\n",
              " '♥': 49295,\n",
              " '♦': 49477}"
            ]
          },
          "metadata": {
            "tags": []
          },
          "execution_count": 12
        }
      ]
    },
    {
      "cell_type": "code",
      "metadata": {
        "id": "0aKKpGikPU8e"
      },
      "source": [
        "#dataset = filt_list      \n",
        "train, validation = sklearn.model_selection.train_test_split(\n",
        "    dataset, train_size=0.8, random_state=42)"
      ],
      "execution_count": null,
      "outputs": []
    },
    {
      "cell_type": "code",
      "metadata": {
        "id": "oKNWtv2UhBn-"
      },
      "source": [
        "import tensorflow.keras.optimizers as opts\n",
        "adam_opt = opts.Adam(learning_rate=0.0001)"
      ],
      "execution_count": null,
      "outputs": []
    },
    {
      "cell_type": "code",
      "metadata": {
        "id": "vpa74PBrK0qq"
      },
      "source": [
        "!cp '/content/drive/My Drive/AIgym/keras-ocr/craft_mlt_25k.h5' '/root/.keras-ocr/craft_mlt_25k.h5'\n",
        "!cp '/content/drive/My Drive/AIgym/keras-ocr/crnn_kurapan_notop.h5' '/root/.keras-ocr/crnn_kurapan_notop.h5'\n",
        "!cp '/content/drive/My Drive/AIgym/keras-ocr/crnn_kurapan.h5' '/root/.keras-ocr/crnn_kurapan.h5'"
      ],
      "execution_count": null,
      "outputs": []
    },
    {
      "cell_type": "code",
      "metadata": {
        "id": "pDed7dIPFw18",
        "colab": {
          "base_uri": "https://localhost:8080/"
        },
        "outputId": "3e881c51-b00a-4678-9556-ce9dc90c21d5"
      },
      "source": [
        "alphabet = string.digits + string.ascii_letters + '$%./ ♠♥♦♣' #$.% '\n",
        " \n",
        " \n",
        "recognizer_alphabet = ''.join(sorted(set(alphabet.lower())))\n",
        " \n",
        "recognizer = keras_ocr.recognition.Recognizer(alphabet=recognizer_alphabet)\n",
        "recognizer.compile(optimizer=adam_opt)"
      ],
      "execution_count": null,
      "outputs": [
        {
          "output_type": "stream",
          "text": [
            "Provided alphabet does not match pretrained alphabet. Using backbone weights only.\n",
            "Looking for /root/.keras-ocr/crnn_kurapan_notop.h5\n"
          ],
          "name": "stdout"
        }
      ]
    },
    {
      "cell_type": "code",
      "metadata": {
        "id": "-e8hlUsGHdwr"
      },
      "source": [
        "rec_img_train = keras_ocr.datasets.get_recognizer_image_generator(\n",
        "            labels=train,\n",
        "            height=recognizer.model.input_shape[1],\n",
        "            width=recognizer.model.input_shape[2],\n",
        "            alphabet=recognizer.alphabet,\n",
        "            )\n",
        " \n",
        "rec_img_val = keras_ocr.datasets.get_recognizer_image_generator(\n",
        "            labels=validation,\n",
        "            height=recognizer.model.input_shape[1],\n",
        "            width=recognizer.model.input_shape[2],\n",
        "            alphabet=recognizer.alphabet,\n",
        "            )"
      ],
      "execution_count": null,
      "outputs": []
    },
    {
      "cell_type": "code",
      "metadata": {
        "id": "CAxwqhExE5QW",
        "colab": {
          "base_uri": "https://localhost:8080/",
          "height": 155
        },
        "outputId": "da3e3847-dbc4-4fa0-b564-4f72cdabf88d"
      },
      "source": [
        "max_length = 7\n",
        " \n",
        " \n",
        "# See what the first validation image for recognition training looks like.\n",
        "image, text = next(rec_img_train)\n",
        "print('This image contains:', text)\n",
        "plt.imshow(image)"
      ],
      "execution_count": null,
      "outputs": [
        {
          "output_type": "stream",
          "text": [
            "869 / 882257 instances have illegal characters.\n",
            "This image contains: ♥\n"
          ],
          "name": "stdout"
        },
        {
          "output_type": "execute_result",
          "data": {
            "text/plain": [
              "<matplotlib.image.AxesImage at 0x7fc812d0f240>"
            ]
          },
          "metadata": {
            "tags": []
          },
          "execution_count": 16
        },
        {
          "output_type": "display_data",
          "data": {
            "image/png": "[encoded data removed]",
            "text/plain": [
              "<Figure size 432x288 with 1 Axes>"
            ]
          },
          "metadata": {
            "tags": [],
            "needs_background": "light"
          }
        }
      ]
    },
    {
      "cell_type": "code",
      "metadata": {
        "id": "A0LZcagIN07O",
        "colab": {
          "base_uri": "https://localhost:8080/"
        },
        "outputId": "cfa879ea-83ed-48f8-a796-4f78863c6a0b"
      },
      "source": [
        "recognition_batch_size = 128\n",
        "weights_dir = os.path.join('.', 'trained_weights')\n",
        "#recognizer.model.load_weights(recognizer_weigths[0])\n",
        "recognizer_basepath = os.path.join(weights_dir, f'rec_H_experiments_{datetime.datetime.now().isoformat()}')\n",
        "recognition_train_generator, recognition_val_generator = [\n",
        "    recognizer.get_batch_generator(\n",
        "      image_generator=image_generator,\n",
        "      batch_size=recognition_batch_size,\n",
        "      lowercase=True\n",
        "    ) for image_generator in [rec_img_train, rec_img_val]\n",
        "]\n",
        "'''\n",
        "callbacks = [\n",
        "    tf.keras.callbacks.EarlyStopping(monitor='val_loss', min_delta=0, patience=10, restore_best_weights=False),\n",
        "    tf.keras.callbacks.ModelCheckpoint('recognizer_borndigital.h5', monitor='val_loss', save_best_only=True),\n",
        "    tf.keras.callbacks.CSVLogger('recognizer_borndigital.csv')\n",
        "    tf.keras.callbacks.ReduceLROnPlateau(patience=5, verbose=1),\n",
        " \n",
        "'''\n",
        " \n",
        "recognizer.training_model.fit_generator(\n",
        "    generator=recognition_train_generator,\n",
        "    epochs=1000,\n",
        "    steps_per_epoch=math.ceil(len(train) / recognition_batch_size),\n",
        "    callbacks=[\n",
        "              tf.keras.callbacks.EarlyStopping(monitor='val_loss', min_delta=0, patience=15, restore_best_weights=False),\n",
        "      tf.keras.callbacks.CSVLogger(f'{recognizer_basepath}.csv', append=True),\n",
        "      tf.keras.callbacks.ModelCheckpoint(filepath=f'{recognizer_basepath}.h5', monitor='val_loss', save_best_only=True, verbose=1) \n",
        "    ],\n",
        "    validation_data=recognition_val_generator,\n",
        "    validation_steps=math.ceil(len(validation) / recognition_batch_size),\n",
        "    workers=0\n",
        ")"
      ],
      "execution_count": null,
      "outputs": [
        {
          "output_type": "stream",
          "text": [
            "WARNING:tensorflow:From <ipython-input-17-297893084379>:32: Model.fit_generator (from tensorflow.python.keras.engine.training) is deprecated and will be removed in a future version.\n",
            "Instructions for updating:\n",
            "Please use Model.fit, which supports generators.\n",
            "Epoch 1/1000\n",
            "6893/6893 [==============================] - ETA: 0s - loss: 2.0456222 / 220565 instances have illegal characters.\n",
            "\n",
            "Epoch 00001: val_loss improved from inf to 0.24768, saving model to ./trained_weights/rec_H_experiments_2021-01-14T12:35:14.170615.h5\n",
            "6893/6893 [==============================] - 14318s 2s/step - loss: 2.0456 - val_loss: 0.2477\n",
            "Epoch 2/1000\n",
            "6893/6893 [==============================] - ETA: 0s - loss: 0.1970\n",
            "Epoch 00002: val_loss improved from 0.24768 to 0.17833, saving model to ./trained_weights/rec_H_experiments_2021-01-14T12:35:14.170615.h5\n",
            "6893/6893 [==============================] - 12330s 2s/step - loss: 0.1970 - val_loss: 0.1783\n",
            "Epoch 3/1000\n",
            "6893/6893 [==============================] - ETA: 0s - loss: 0.1281\n",
            "Epoch 00003: val_loss improved from 0.17833 to 0.15638, saving model to ./trained_weights/rec_H_experiments_2021-01-14T12:35:14.170615.h5\n",
            "6893/6893 [==============================] - 11859s 2s/step - loss: 0.1281 - val_loss: 0.1564\n",
            "Epoch 4/1000\n",
            "6893/6893 [==============================] - ETA: 0s - loss: 0.0955\n",
            "Epoch 00004: val_loss improved from 0.15638 to 0.15049, saving model to ./trained_weights/rec_H_experiments_2021-01-14T12:35:14.170615.h5\n",
            "6893/6893 [==============================] - 11755s 2s/step - loss: 0.0955 - val_loss: 0.1505\n",
            "Epoch 5/1000\n",
            "6893/6893 [==============================] - ETA: 0s - loss: 0.0724\n",
            "Epoch 00005: val_loss improved from 0.15049 to 0.14270, saving model to ./trained_weights/rec_H_experiments_2021-01-14T12:35:14.170615.h5\n",
            "6893/6893 [==============================] - 11976s 2s/step - loss: 0.0724 - val_loss: 0.1427\n",
            "Epoch 6/1000\n",
            "4812/6893 [===================>..........] - ETA: 49:32 - loss: 0.0575"
          ],
          "name": "stdout"
        }
      ]
    },
    {
      "cell_type": "code",
      "metadata": {
        "id": "ddLwsNBOaEQZ"
      },
      "source": [
        ""
      ],
      "execution_count": null,
      "outputs": []
    }
  ]
}